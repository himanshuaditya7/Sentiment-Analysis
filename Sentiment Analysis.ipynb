{
 "cells": [
  {
   "cell_type": "code",
   "execution_count": 99,
   "metadata": {},
   "outputs": [],
   "source": [
    "import re\n",
    "import nltk\n",
    "import numpy as np\n",
    "import pandas as pd\n",
    "import matplotlib.pyplot as plt\n",
    "import seaborn as sns\n",
    "import warnings \n",
    "pd.set_option('display.max_columns', None)  \n"
   ]
  },
  {
   "cell_type": "markdown",
   "metadata": {},
   "source": [
    "# Data Description"
   ]
  },
  {
   "cell_type": "code",
   "execution_count": 100,
   "metadata": {},
   "outputs": [
    {
     "data": {
      "text/html": [
       "<div>\n",
       "<style scoped>\n",
       "    .dataframe tbody tr th:only-of-type {\n",
       "        vertical-align: middle;\n",
       "    }\n",
       "\n",
       "    .dataframe tbody tr th {\n",
       "        vertical-align: top;\n",
       "    }\n",
       "\n",
       "    .dataframe thead th {\n",
       "        text-align: right;\n",
       "    }\n",
       "</style>\n",
       "<table border=\"1\" class=\"dataframe\">\n",
       "  <thead>\n",
       "    <tr style=\"text-align: right;\">\n",
       "      <th></th>\n",
       "      <th>unique_hash</th>\n",
       "      <th>text</th>\n",
       "      <th>drug</th>\n",
       "      <th>sentiment</th>\n",
       "    </tr>\n",
       "  </thead>\n",
       "  <tbody>\n",
       "    <tr>\n",
       "      <th>0</th>\n",
       "      <td>2e180be4c9214c1f5ab51fd8cc32bc80c9f612e0</td>\n",
       "      <td>Autoimmune diseases tend to come in clusters. As for Gilenya – if you feel good, don’t think about it, it won’t change anything but waste your time and energy. I’m taking Tysabri and feel amazing, no symptoms (other than dodgy color vision, but I’ve had it since always, so, don’t know) and I don’t know if it will last a month, a year, a decade, ive just decided to enjoy the ride, no point in worrying.</td>\n",
       "      <td>gilenya</td>\n",
       "      <td>2</td>\n",
       "    </tr>\n",
       "    <tr>\n",
       "      <th>1</th>\n",
       "      <td>9eba8f80e7e20f3a2f48685530748fbfa95943e4</td>\n",
       "      <td>I can completely understand why you’d want to try it. But, results reported in lectures don’t always stand up to the scrutiny of peer-review during publication. There so much still to do before this is convincing. I hope that it does work out, I really do. And if you’re aware of and happy with the risks, then that’s great. I just think it’s important to present this in a balanced way, and to understand why we don’t move straight from the first show of promise in an animal study to using drugs on humans. There’s still a lot of animal data to gather, and human data to gather before anyone can tell if it’s safe or effective. I can’t tell you how many times animal studies don’t follow through to humans, but it’s one of the major attrition points in drug development. You’ve been through some of the unpredictability issues with Cladribine/Gilenya, where there was an interaction that wasn’t predicted. But once people try it, the doctors can see patterns and work out what’s going on. Clemastine/metformin is very exciting, and given what you’ve said about your current condition and your personal risk tolerance it makes sense to try it. It definitely wouldn’t be for everyone.</td>\n",
       "      <td>gilenya</td>\n",
       "      <td>2</td>\n",
       "    </tr>\n",
       "    <tr>\n",
       "      <th>2</th>\n",
       "      <td>fe809672251f6bd0d986e00380f48d047c7e7b76</td>\n",
       "      <td>Interesting that it only targets S1P-1/5 receptors rather than 1-5 like Fingolimod. Hoping to soon see what the AEs and SAEs were Yes. I'm not sure what this means, exactly:  Quote Nine patients reported serious adverse events (2 mg: 3/29 [10.3%], 1.25 mg: 1/43 [2.3%], 0.5 mg: 4/29 [13.8%], and 0.25 mg: 1/50 [2.0%]; no serious adverse event was reported for more than 1 patient and no new safety signals occurred compared with the BOLD Study. If there were 9 patients reporting SAEs, how can it be stated that \"no serious adverse event was reported for more than 1 patient...\"? Maybe I haven't read this right, or maybe there's a misprint. I'm very pleased that something is being developed for SPMS, and it's encouraging that siponimod doesn't linger for very long in the body.</td>\n",
       "      <td>fingolimod</td>\n",
       "      <td>2</td>\n",
       "    </tr>\n",
       "    <tr>\n",
       "      <th>3</th>\n",
       "      <td>bd22104dfa9ec80db4099523e03fae7a52735eb6</td>\n",
       "      <td>Very interesting, grand merci. Now I wonder where lemtrada and ocrevus sales would go, if they prove anti-cd20 are induction</td>\n",
       "      <td>ocrevus</td>\n",
       "      <td>2</td>\n",
       "    </tr>\n",
       "    <tr>\n",
       "      <th>4</th>\n",
       "      <td>b227688381f9b25e5b65109dd00f7f895e838249</td>\n",
       "      <td>Hi everybody, My latest MRI results for Brain and Cervical Cord are in and my next Neurologist appointment is in the next couple of weeks. There’re no new lesions in Brain/Cord and I’ve had no relapses while I was on Gilenya. This was a good sign. But there was one line in the cervical cord review that concerned me. It goes : “Lesions at C2-3 and T2 now show hypointensity on the post gadolinium T1 images only. This could represent artifact or early axonal loss.” That was bothersome to read. What are the kind of symptoms from C2-C3 lesion should I be aware of ? Would it result in change of my DMT ? Thanks.</td>\n",
       "      <td>gilenya</td>\n",
       "      <td>1</td>\n",
       "    </tr>\n",
       "  </tbody>\n",
       "</table>\n",
       "</div>"
      ],
      "text/plain": [
       "                                unique_hash  \\\n",
       "0  2e180be4c9214c1f5ab51fd8cc32bc80c9f612e0   \n",
       "1  9eba8f80e7e20f3a2f48685530748fbfa95943e4   \n",
       "2  fe809672251f6bd0d986e00380f48d047c7e7b76   \n",
       "3  bd22104dfa9ec80db4099523e03fae7a52735eb6   \n",
       "4  b227688381f9b25e5b65109dd00f7f895e838249   \n",
       "\n",
       "                                                                                                                                                                                                                                                                                                                                                                                                                                                                                                                                                                                                                                                                                                                                                                                                                                                                                                                                                                                                                                                                                                                                                                                                                               text  \\\n",
       "0                                                                                                                                                                                                                                                                                                                                                                                                                                                                                                                                                                                                                                                                                                                                                                                                              Autoimmune diseases tend to come in clusters. As for Gilenya – if you feel good, don’t think about it, it won’t change anything but waste your time and energy. I’m taking Tysabri and feel amazing, no symptoms (other than dodgy color vision, but I’ve had it since always, so, don’t know) and I don’t know if it will last a month, a year, a decade, ive just decided to enjoy the ride, no point in worrying.   \n",
       "1  I can completely understand why you’d want to try it. But, results reported in lectures don’t always stand up to the scrutiny of peer-review during publication. There so much still to do before this is convincing. I hope that it does work out, I really do. And if you’re aware of and happy with the risks, then that’s great. I just think it’s important to present this in a balanced way, and to understand why we don’t move straight from the first show of promise in an animal study to using drugs on humans. There’s still a lot of animal data to gather, and human data to gather before anyone can tell if it’s safe or effective. I can’t tell you how many times animal studies don’t follow through to humans, but it’s one of the major attrition points in drug development. You’ve been through some of the unpredictability issues with Cladribine/Gilenya, where there was an interaction that wasn’t predicted. But once people try it, the doctors can see patterns and work out what’s going on. Clemastine/metformin is very exciting, and given what you’ve said about your current condition and your personal risk tolerance it makes sense to try it. It definitely wouldn’t be for everyone.   \n",
       "2                                                                                                                                                                                                                                                                                                                                                                                                                      Interesting that it only targets S1P-1/5 receptors rather than 1-5 like Fingolimod. Hoping to soon see what the AEs and SAEs were Yes. I'm not sure what this means, exactly:  Quote Nine patients reported serious adverse events (2 mg: 3/29 [10.3%], 1.25 mg: 1/43 [2.3%], 0.5 mg: 4/29 [13.8%], and 0.25 mg: 1/50 [2.0%]; no serious adverse event was reported for more than 1 patient and no new safety signals occurred compared with the BOLD Study. If there were 9 patients reporting SAEs, how can it be stated that \"no serious adverse event was reported for more than 1 patient...\"? Maybe I haven't read this right, or maybe there's a misprint. I'm very pleased that something is being developed for SPMS, and it's encouraging that siponimod doesn't linger for very long in the body.   \n",
       "3                                                                                                                                                                                                                                                                                                                                                                                                                                                                                                                                                                                                                                                                                                                                                                                                                                                                                                                                                                                                                                                                                                      Very interesting, grand merci. Now I wonder where lemtrada and ocrevus sales would go, if they prove anti-cd20 are induction   \n",
       "4                                                                                                                                                                                                                                                                                                                                                                                                                                                                                                                                                                                              Hi everybody, My latest MRI results for Brain and Cervical Cord are in and my next Neurologist appointment is in the next couple of weeks. There’re no new lesions in Brain/Cord and I’ve had no relapses while I was on Gilenya. This was a good sign. But there was one line in the cervical cord review that concerned me. It goes : “Lesions at C2-3 and T2 now show hypointensity on the post gadolinium T1 images only. This could represent artifact or early axonal loss.” That was bothersome to read. What are the kind of symptoms from C2-C3 lesion should I be aware of ? Would it result in change of my DMT ? Thanks.   \n",
       "\n",
       "         drug  sentiment  \n",
       "0     gilenya          2  \n",
       "1     gilenya          2  \n",
       "2  fingolimod          2  \n",
       "3     ocrevus          2  \n",
       "4     gilenya          1  "
      ]
     },
     "execution_count": 100,
     "metadata": {},
     "output_type": "execute_result"
    }
   ],
   "source": [
    "data_train = pd.read_csv(\"train.csv\")\n",
    "data_test = pd.read_csv(\"test.csv\")\n",
    "data_train.head()"
   ]
  },
  {
   "cell_type": "code",
   "execution_count": 101,
   "metadata": {},
   "outputs": [
    {
     "data": {
      "text/plain": [
       "(5279, 4)"
      ]
     },
     "execution_count": 101,
     "metadata": {},
     "output_type": "execute_result"
    }
   ],
   "source": [
    "data_train.shape"
   ]
  },
  {
   "cell_type": "code",
   "execution_count": 102,
   "metadata": {},
   "outputs": [
    {
     "data": {
      "text/plain": [
       "(2924, 3)"
      ]
     },
     "execution_count": 102,
     "metadata": {},
     "output_type": "execute_result"
    }
   ],
   "source": [
    "data_test.shape"
   ]
  },
  {
   "cell_type": "code",
   "execution_count": 103,
   "metadata": {},
   "outputs": [
    {
     "data": {
      "text/plain": [
       "unique_hash    0\n",
       "text           0\n",
       "drug           0\n",
       "sentiment      0\n",
       "dtype: int64"
      ]
     },
     "execution_count": 103,
     "metadata": {},
     "output_type": "execute_result"
    }
   ],
   "source": [
    "data_train.isnull().sum()"
   ]
  },
  {
   "cell_type": "code",
   "execution_count": 105,
   "metadata": {},
   "outputs": [
    {
     "data": {
      "text/plain": [
       "8203"
      ]
     },
     "execution_count": 105,
     "metadata": {},
     "output_type": "execute_result"
    }
   ],
   "source": [
    "combined = data_train.append(data_test, ignore_index=True)\n",
    "len(combined)\n"
   ]
  },
  {
   "cell_type": "code",
   "execution_count": 106,
   "metadata": {},
   "outputs": [
    {
     "data": {
      "text/plain": [
       "array(['gilenya', 'fingolimod', 'ocrevus', 'cladribine', 'humira',\n",
       "       'tagrisso', 'lucentis', 'pan-retinal photocoagulation', 'remicade',\n",
       "       'stelara', 'ocrelizumab', 'dexamethasone', 'pemetrexed', 'cimzia',\n",
       "       'tarceva', 'nivolumab', 'tecentriq', 'ipilimumab', 'mekinist',\n",
       "       'opdivo', 'dexamethasone implant', 'eylea', 'erlotinib',\n",
       "       'alectinib', 'entyvio', 'crizotinib', 'keytruda', 'mavenclad',\n",
       "       'osimertinib', 'vedolizumab', 'atezolizumab', 'durvalumab',\n",
       "       'alimta', 'tysabri', 'avastin', 'golimumab', 'tofacitinib',\n",
       "       'ixifi', 'teriflunomide', 'ranibizumab', 'afatinib',\n",
       "       'upadacitinib', 'zykadia', 'ustekinumab', 'xalkori',\n",
       "       'pembrolizumab', 'lemtrada', 'siponimod', 'simponi', 'inflectra',\n",
       "       'entrectinib', 'yervoy', 'vitrectomy', 'bevacizumab', 'gefitinib',\n",
       "       'amjevita', 'lorlatinib', 'pemrolizumab', 'tafinlar',\n",
       "       'infliximab-dyyb', 'ozurdex', 'gilotrif', 'imfinzi', 'iressa',\n",
       "       'laser photocoagulation', 'renflexis', 'alecensa', 'pf-00547659',\n",
       "       'cyltezo', 'almita', 'macugen', 'remsima', 'necitumumab',\n",
       "       'panretinal photocoagulation', 'alunbrig', 'aflibercept',\n",
       "       'ceritinib', 'ketruda', 'certolizumab pegol', 'nivolumabb',\n",
       "       'photodynamic therapy', 'geftinib', 'trametinib', 'aubagio',\n",
       "       'ofatumumab', 'movectro', 'portrazza', 'pemetrexed disodium',\n",
       "       'arzerra', 'dabrafenib', 'giotrif', 'brigatinib', 'brolucizumab',\n",
       "       'pegaptanib', 'alemtuzumab', 'rhumab 2h7', 'filgotinib',\n",
       "       'alectnib', 'crizotnib', 'ct-p13', 'guselkumab', 'cyramza',\n",
       "       'stellara', 'etrolizumab', 'osmertinib', 'duvalumab', 'flixabi',\n",
       "       'risankizumab', 'elotinib', 'afainib', 'alitma'], dtype=object)"
      ]
     },
     "execution_count": 106,
     "metadata": {},
     "output_type": "execute_result"
    }
   ],
   "source": [
    "combined[\"drug\"].unique()\n"
   ]
  },
  {
   "cell_type": "code",
   "execution_count": 107,
   "metadata": {},
   "outputs": [
    {
     "data": {
      "text/html": [
       "<div>\n",
       "<style scoped>\n",
       "    .dataframe tbody tr th:only-of-type {\n",
       "        vertical-align: middle;\n",
       "    }\n",
       "\n",
       "    .dataframe tbody tr th {\n",
       "        vertical-align: top;\n",
       "    }\n",
       "\n",
       "    .dataframe thead th {\n",
       "        text-align: right;\n",
       "    }\n",
       "</style>\n",
       "<table border=\"1\" class=\"dataframe\">\n",
       "  <thead>\n",
       "    <tr style=\"text-align: right;\">\n",
       "      <th></th>\n",
       "      <th>unique_hash</th>\n",
       "      <th>text</th>\n",
       "      <th>drug</th>\n",
       "      <th>sentiment</th>\n",
       "    </tr>\n",
       "  </thead>\n",
       "  <tbody>\n",
       "    <tr>\n",
       "      <th>0</th>\n",
       "      <td>2e180be4c9214c1f5ab51fd8cc32bc80c9f612e0</td>\n",
       "      <td>Autoimmune diseases tend to come in clusters. As for Gilenya – if you feel good, don’t think about it, it won’t change anything but waste your time and energy. I’m taking Tysabri and feel amazing, no symptoms (other than dodgy color vision, but I’ve had it since always, so, don’t know) and I don’t know if it will last a month, a year, a decade, ive just decided to enjoy the ride, no point in worrying.</td>\n",
       "      <td>gilenya</td>\n",
       "      <td>2</td>\n",
       "    </tr>\n",
       "    <tr>\n",
       "      <th>1</th>\n",
       "      <td>9eba8f80e7e20f3a2f48685530748fbfa95943e4</td>\n",
       "      <td>I can completely understand why you’d want to try it. But, results reported in lectures don’t always stand up to the scrutiny of peer-review during publication. There so much still to do before this is convincing. I hope that it does work out, I really do. And if you’re aware of and happy with the risks, then that’s great. I just think it’s important to present this in a balanced way, and to understand why we don’t move straight from the first show of promise in an animal study to using drugs on humans. There’s still a lot of animal data to gather, and human data to gather before anyone can tell if it’s safe or effective. I can’t tell you how many times animal studies don’t follow through to humans, but it’s one of the major attrition points in drug development. You’ve been through some of the unpredictability issues with Cladribine/Gilenya, where there was an interaction that wasn’t predicted. But once people try it, the doctors can see patterns and work out what’s going on. Clemastine/metformin is very exciting, and given what you’ve said about your current condition and your personal risk tolerance it makes sense to try it. It definitely wouldn’t be for everyone.</td>\n",
       "      <td>gilenya</td>\n",
       "      <td>2</td>\n",
       "    </tr>\n",
       "    <tr>\n",
       "      <th>2</th>\n",
       "      <td>fe809672251f6bd0d986e00380f48d047c7e7b76</td>\n",
       "      <td>Interesting that it only targets S1P-1/5 receptors rather than 1-5 like Fingolimod. Hoping to soon see what the AEs and SAEs were Yes. I'm not sure what this means, exactly:  Quote Nine patients reported serious adverse events (2 mg: 3/29 [10.3%], 1.25 mg: 1/43 [2.3%], 0.5 mg: 4/29 [13.8%], and 0.25 mg: 1/50 [2.0%]; no serious adverse event was reported for more than 1 patient and no new safety signals occurred compared with the BOLD Study. If there were 9 patients reporting SAEs, how can it be stated that \"no serious adverse event was reported for more than 1 patient...\"? Maybe I haven't read this right, or maybe there's a misprint. I'm very pleased that something is being developed for SPMS, and it's encouraging that siponimod doesn't linger for very long in the body.</td>\n",
       "      <td>fingolimod</td>\n",
       "      <td>2</td>\n",
       "    </tr>\n",
       "    <tr>\n",
       "      <th>3</th>\n",
       "      <td>bd22104dfa9ec80db4099523e03fae7a52735eb6</td>\n",
       "      <td>Very interesting, grand merci. Now I wonder where lemtrada and ocrevus sales would go, if they prove anti-cd20 are induction</td>\n",
       "      <td>ocrevus</td>\n",
       "      <td>2</td>\n",
       "    </tr>\n",
       "    <tr>\n",
       "      <th>4</th>\n",
       "      <td>b227688381f9b25e5b65109dd00f7f895e838249</td>\n",
       "      <td>Hi everybody, My latest MRI results for Brain and Cervical Cord are in and my next Neurologist appointment is in the next couple of weeks. There’re no new lesions in Brain/Cord and I’ve had no relapses while I was on Gilenya. This was a good sign. But there was one line in the cervical cord review that concerned me. It goes : “Lesions at C2-3 and T2 now show hypointensity on the post gadolinium T1 images only. This could represent artifact or early axonal loss.” That was bothersome to read. What are the kind of symptoms from C2-C3 lesion should I be aware of ? Would it result in change of my DMT ? Thanks.</td>\n",
       "      <td>gilenya</td>\n",
       "      <td>1</td>\n",
       "    </tr>\n",
       "  </tbody>\n",
       "</table>\n",
       "</div>"
      ],
      "text/plain": [
       "                                unique_hash  \\\n",
       "0  2e180be4c9214c1f5ab51fd8cc32bc80c9f612e0   \n",
       "1  9eba8f80e7e20f3a2f48685530748fbfa95943e4   \n",
       "2  fe809672251f6bd0d986e00380f48d047c7e7b76   \n",
       "3  bd22104dfa9ec80db4099523e03fae7a52735eb6   \n",
       "4  b227688381f9b25e5b65109dd00f7f895e838249   \n",
       "\n",
       "                                                                                                                                                                                                                                                                                                                                                                                                                                                                                                                                                                                                                                                                                                                                                                                                                                                                                                                                                                                                                                                                                                                                                                                                                               text  \\\n",
       "0                                                                                                                                                                                                                                                                                                                                                                                                                                                                                                                                                                                                                                                                                                                                                                                                              Autoimmune diseases tend to come in clusters. As for Gilenya – if you feel good, don’t think about it, it won’t change anything but waste your time and energy. I’m taking Tysabri and feel amazing, no symptoms (other than dodgy color vision, but I’ve had it since always, so, don’t know) and I don’t know if it will last a month, a year, a decade, ive just decided to enjoy the ride, no point in worrying.   \n",
       "1  I can completely understand why you’d want to try it. But, results reported in lectures don’t always stand up to the scrutiny of peer-review during publication. There so much still to do before this is convincing. I hope that it does work out, I really do. And if you’re aware of and happy with the risks, then that’s great. I just think it’s important to present this in a balanced way, and to understand why we don’t move straight from the first show of promise in an animal study to using drugs on humans. There’s still a lot of animal data to gather, and human data to gather before anyone can tell if it’s safe or effective. I can’t tell you how many times animal studies don’t follow through to humans, but it’s one of the major attrition points in drug development. You’ve been through some of the unpredictability issues with Cladribine/Gilenya, where there was an interaction that wasn’t predicted. But once people try it, the doctors can see patterns and work out what’s going on. Clemastine/metformin is very exciting, and given what you’ve said about your current condition and your personal risk tolerance it makes sense to try it. It definitely wouldn’t be for everyone.   \n",
       "2                                                                                                                                                                                                                                                                                                                                                                                                                      Interesting that it only targets S1P-1/5 receptors rather than 1-5 like Fingolimod. Hoping to soon see what the AEs and SAEs were Yes. I'm not sure what this means, exactly:  Quote Nine patients reported serious adverse events (2 mg: 3/29 [10.3%], 1.25 mg: 1/43 [2.3%], 0.5 mg: 4/29 [13.8%], and 0.25 mg: 1/50 [2.0%]; no serious adverse event was reported for more than 1 patient and no new safety signals occurred compared with the BOLD Study. If there were 9 patients reporting SAEs, how can it be stated that \"no serious adverse event was reported for more than 1 patient...\"? Maybe I haven't read this right, or maybe there's a misprint. I'm very pleased that something is being developed for SPMS, and it's encouraging that siponimod doesn't linger for very long in the body.   \n",
       "3                                                                                                                                                                                                                                                                                                                                                                                                                                                                                                                                                                                                                                                                                                                                                                                                                                                                                                                                                                                                                                                                                                      Very interesting, grand merci. Now I wonder where lemtrada and ocrevus sales would go, if they prove anti-cd20 are induction   \n",
       "4                                                                                                                                                                                                                                                                                                                                                                                                                                                                                                                                                                                              Hi everybody, My latest MRI results for Brain and Cervical Cord are in and my next Neurologist appointment is in the next couple of weeks. There’re no new lesions in Brain/Cord and I’ve had no relapses while I was on Gilenya. This was a good sign. But there was one line in the cervical cord review that concerned me. It goes : “Lesions at C2-3 and T2 now show hypointensity on the post gadolinium T1 images only. This could represent artifact or early axonal loss.” That was bothersome to read. What are the kind of symptoms from C2-C3 lesion should I be aware of ? Would it result in change of my DMT ? Thanks.   \n",
       "\n",
       "         drug  sentiment  \n",
       "0     gilenya          2  \n",
       "1     gilenya          2  \n",
       "2  fingolimod          2  \n",
       "3     ocrevus          2  \n",
       "4     gilenya          1  "
      ]
     },
     "execution_count": 107,
     "metadata": {},
     "output_type": "execute_result"
    }
   ],
   "source": [
    "pd.options.display.max_colwidth = 3000\n",
    "data_train.head()"
   ]
  },
  {
   "cell_type": "markdown",
   "metadata": {},
   "source": [
    "# Data Cleaning"
   ]
  },
  {
   "cell_type": "code",
   "execution_count": 108,
   "metadata": {},
   "outputs": [],
   "source": [
    "def clean_text(text):\n",
    "    text = text.lower()\n",
    "    text = re.sub(r'@[a-zA-Z0-9_]+', '', text)   \n",
    "    text = re.sub(r'https?://[A-Za-z0-9./]+', '', text)   \n",
    "    text = re.sub(r'www.[^ ]+', '', text)  \n",
    "    text = re.sub(r'[a-zA-Z0-9]*www[a-zA-Z0-9]*com[a-zA-Z0-9]*', '', text)  \n",
    "    text = re.sub(r'[^a-zA-Z]', ' ', text)   \n",
    "    text = [token for token in text.split() if len(token) > 2]\n",
    "    text = ' '.join(text)\n",
    "    return text\n",
    "\n",
    "# combined[\"text\"] = combined[\"text\"].apply(clean_text)\n",
    "\n",
    "data_train['text'] = data_train['text'].apply(clean_text)\n",
    "data_test['text'] = data_test['text'].apply(clean_text)"
   ]
  },
  {
   "cell_type": "code",
   "execution_count": 79,
   "metadata": {},
   "outputs": [
    {
     "data": {
      "text/plain": [
       "0                                                                                                                                                                                                                                                                                                                                                [autoimmune, diseases, tend, come, clusters, for, gilenya, you, feel, good, don, think, about, won, change, anything, but, waste, your, time, and, energy, taking, tysabri, and, feel, amazing, symptoms, other, than, dodgy, color, vision, but, had, since, always, don, know, and, don, know, will, last, month, year, decade, ive, just, decided, enjoy, the, ride, point, worrying]\n",
       "1    [can, completely, understand, why, you, want, try, but, results, reported, lectures, don, always, stand, the, scrutiny, peer, review, during, publication, there, much, still, before, this, convincing, hope, that, does, work, out, really, and, you, aware, and, happy, with, the, risks, then, that, great, just, think, important, present, this, balanced, way, and, understand, why, don, move, straight, from, the, first, show, promise, animal, study, using, drugs, humans, there, still, lot, animal, data, gather, and, human, data, gather, before, anyone, can, tell, safe, effective, can, tell, you, how, many, times, animal, studies, don, follow, through, humans, but, one, the, major, attrition, points, ...]\n",
       "2            [interesting, that, only, targets, receptors, rather, than, like, fingolimod, hoping, soon, see, what, the, aes, and, saes, were, yes, not, sure, what, this, means, exactly, quote, nine, patients, reported, serious, adverse, events, and, serious, adverse, event, was, reported, for, more, than, patient, and, new, safety, signals, occurred, compared, with, the, bold, study, there, were, patients, reporting, saes, how, can, stated, that, serious, adverse, event, was, reported, for, more, than, patient, maybe, haven, read, this, right, maybe, there, misprint, very, pleased, that, something, being, developed, for, spms, and, encouraging, that, siponimod, doesn, linger, for, very, long, the, body]\n",
       "3                                                                                                                                                                                                                                                                                                                                                                                                                                                                                                                                                                                                          [very, interesting, grand, merci, now, wonder, where, lemtrada, and, ocrevus, sales, would, they, prove, anti, are, induction]\n",
       "4                                                                                                                                              [everybody, latest, mri, results, for, brain, and, cervical, cord, are, and, next, neurologist, appointment, the, next, couple, weeks, there, new, lesions, brain, cord, and, had, relapses, while, was, gilenya, this, was, good, sign, but, there, was, one, line, the, cervical, cord, review, that, concerned, goes, lesions, and, now, show, hypointensity, the, post, gadolinium, images, only, this, could, represent, artifact, early, axonal, loss, that, was, bothersome, read, what, are, the, kind, symptoms, from, lesion, should, aware, would, result, change, dmt, thanks]\n",
       "Name: text, dtype: object"
      ]
     },
     "execution_count": 79,
     "metadata": {},
     "output_type": "execute_result"
    }
   ],
   "source": [
    "tokenized_review_train = data_train['text'].apply(lambda x: x.split())\n",
    "tokenized_review_train.head()"
   ]
  },
  {
   "cell_type": "code",
   "execution_count": 109,
   "metadata": {},
   "outputs": [
    {
     "data": {
      "text/plain": [
       "0                                                                                                                                                                                                                                                                                                                                                                                                                                                                                                                                                                                                                                                                                         [previously, stable, natalizumab, with, switching, fingolimod]\n",
       "1                                                                                                                                                                                                                                                                                                                                                                                                                                                                                                                                                                                                     [fingolimod, and, have, been, since, december, the, only, way, can, describe, any, better, like, feeling, drunk, but, without, having, had, drink]\n",
       "2    [apparently, shingles, have, few, red, spots, just, below, left, breast, which, appeared, few, days, ago, wasn, sure, they, were, connected, not, but, showed, them, the, and, immediately, said, shingles, apparently, cos, left, few, days, was, too, late, prescribe, anything, for, shingles, the, prescribed, some, useless, amitryptiline, which, probably, won, take, because, even, low, dose, makes, unbearably, groggy, still, not, entirely, happy, just, cos, the, stomach, pain, bad, and, had, lot, bloating, and, stuff, fever, far, know, anyone, here, had, any, experience, with, shingles, seems, like, can, expect, more, weeks, this, crohn, june, yay, tried, asas, azathioprine, remicade, methotrexate, humira, diets, ...]\n",
       "3                  [the, docetaxel, doing, once, week, weeks, then, week, off, claim, less, harsh, will, have, the, same, efficacy, the, once, every, weeks, diagnosed, stage, nsclc, egfr, also, positive, for, year, tarceva, then, months, rociletinib, then, wbr, following, months, tarcrva, pulse, carboplatin, avastin, alimta, then, month, tagrisso, was, diagnosed, leptomeningeal, metastasis, nov, now, has, big, tumor, and, multiple, nodules, with, different, sizes, most, recent, guardant, test, feb, egfr, exon, deletion, egfr, amp, met, met, amp, fgfr, amp, pik, amp, ccne, amp, braf, amp, myc, amp, additional, alterations, brca, mtor, met, jak, map, dec, liver, biopsy, reports, egfr, non, small, cell, lung, cancer, ...]\n",
       "4      [stelara, worked, matter, days, for, your, willing, jump, through, hoops, get, for, you, then, probably, worth, considering, one, anti, tnf, stopped, working, for, you, then, another, ulcerative, colitis, next, surgery, scheduled, had, such, problems, with, skin, and, loop, until, added, them, setup, ulcerative, colitis, next, surgery, scheduled, not, familiar, with, hollister, but, probably, these, they, first, cut, hole, for, the, stoma, through, and, place, directly, the, skin, protects, from, leaks, staying, the, skin, and, ulcerative, colitis, humira, remicade, there, are, cimzia, and, simponi, that, are, anti, tnf, shots, not, based, upon, weight, xeljanz, also, not, weight, based, not, that, stelara, ...]\n",
       "Name: text, dtype: object"
      ]
     },
     "execution_count": 109,
     "metadata": {},
     "output_type": "execute_result"
    }
   ],
   "source": [
    "tokenized_review_test = data_test['text'].apply(lambda x: x.split())\n",
    "tokenized_review_test.head()"
   ]
  },
  {
   "cell_type": "code",
   "execution_count": 110,
   "metadata": {},
   "outputs": [
    {
     "data": {
      "text/plain": [
       "0                                                                                                                                                                                                                                                                                                                 [autoimmun, disea, tend, come, cluster, for, gilenya, you, feel, good, don, think, about, won, chang, anyth, but, wast, your, time, and, energi, take, tysabri, and, feel, amaz, symptom, other, than, dodgi, color, vision, but, had, sinc, alway, don, know, and, don, know, will, last, month, year, decad, ive, just, decid, enjoy, the, ride, point, worri]\n",
       "1    [can, complet, understand, whi, you, want, tri, but, result, report, lectur, don, alway, stand, the, scrutini, peer, review, dure, public, there, much, still, befor, thi, convinc, hope, that, doe, work, out, realli, and, you, awar, and, happi, with, the, risk, then, that, great, just, think, import, present, thi, balanc, way, and, understand, whi, don, move, straight, from, the, first, show, promi, anim, studi, use, drug, human, there, still, lot, anim, data, gather, and, human, data, gather, befor, anyon, can, tell, safe, effect, can, tell, you, how, mani, time, anim, studi, don, follow, through, human, but, one, the, major, attrit, point, ...]\n",
       "2                   [interest, that, onli, target, receptor, rather, than, like, fingolimod, hope, soon, see, what, the, ae, and, sae, were, ye, not, sure, what, thi, mean, exactli, quot, nine, patient, report, seriou, adver, event, and, seriou, adver, event, wa, report, for, more, than, patient, and, new, safeti, signal, occur, compar, with, the, bold, studi, there, were, patient, report, sae, how, can, state, that, seriou, adver, event, wa, report, for, more, than, patient, mayb, haven, read, thi, right, mayb, there, misprint, veri, plea, that, someth, be, develop, for, spm, and, encourag, that, siponimod, doesn, linger, for, veri, long, the, bodi]\n",
       "3                                                                                                                                                                                                                                                                                                                                                                                                                                                                                                                                                           [veri, interest, grand, merci, now, wonder, where, lemtrada, and, ocrevu, sale, would, they, prove, anti, are, induct]\n",
       "4                                                                                                                                  [everybodi, latest, mri, result, for, brain, and, cervic, cord, are, and, next, neurologist, appoint, the, next, coupl, week, there, new, lesion, brain, cord, and, had, relap, while, wa, gilenya, thi, wa, good, sign, but, there, wa, one, line, the, cervic, cord, review, that, concern, goe, lesion, and, now, show, hypointen, the, post, gadolinium, imag, onli, thi, could, repr, artifact, earli, axon, loss, that, wa, bothersom, read, what, are, the, kind, symptom, from, lesion, should, awar, would, result, chang, dmt, thank]\n",
       "Name: text, dtype: object"
      ]
     },
     "execution_count": 110,
     "metadata": {},
     "output_type": "execute_result"
    }
   ],
   "source": [
    "from nltk.stem.porter import *\n",
    "stemmer = PorterStemmer()\n",
    "\n",
    "tokenized_review_train = tokenized_review_train.apply(lambda x: [stemmer.stem(i) for i in x]) # stemming\n",
    "tokenized_review_train.head()"
   ]
  },
  {
   "cell_type": "code",
   "execution_count": 111,
   "metadata": {},
   "outputs": [
    {
     "data": {
      "text/plain": [
       "0                                                                                                                                                                                                                                                                                                                                                                                                                                                                                                                                                                                                                                  [previous, stabl, natalizumab, with, switch, fingolimod]\n",
       "1                                                                                                                                                                                                                                                                                                                                                                                                                                                                                                                                                 [fingolimod, and, have, been, sinc, decemb, the, onli, way, can, describ, ani, better, like, feel, drunk, but, without, have, had, drink]\n",
       "2               [appar, shingl, have, few, red, spot, just, below, left, breast, which, appear, few, day, ago, wasn, sure, they, were, connect, not, but, show, them, the, and, immedi, said, shingl, appar, co, left, few, day, wa, too, late, prescrib, anyth, for, shingl, the, prescrib, some, useless, amitryptilin, which, probabl, won, take, becaus, even, low, dose, make, unbear, groggi, still, not, entir, happi, just, co, the, stomach, pain, bad, and, had, lot, bloat, and, stuff, fever, far, know, anyon, here, had, ani, experi, with, shingl, seem, like, can, expect, more, week, thi, crohn, june, yay, tri, asa, azathioprin, remicad, methotrex, humira, diet, ...]\n",
       "3     [the, docetaxel, do, onc, week, week, then, week, off, claim, less, harsh, will, have, the, same, efficaci, the, onc, everi, week, diagnos, stage, nsclc, egfr, also, posit, for, year, tarceva, then, month, rociletinib, then, wbr, follow, month, tarcrva, puls, carboplatin, avastin, alimta, then, month, tagrisso, wa, diagnos, leptomening, metastasi, nov, now, ha, big, tumor, and, multipl, nodul, with, differ, size, most, recent, guardant, test, feb, egfr, exon, delet, egfr, amp, met, met, amp, fgfr, amp, pik, amp, ccne, amp, braf, amp, myc, amp, addit, alter, brca, mtor, met, jak, map, dec, liver, biopsi, report, egfr, non, small, cell, lung, cancer, ...]\n",
       "4    [stelara, work, matter, day, for, your, will, jump, through, hoop, get, for, you, then, probabl, worth, consid, one, anti, tnf, stop, work, for, you, then, anoth, ulcer, coliti, next, surgeri, schedul, had, such, problem, with, skin, and, loop, until, ad, them, setup, ulcer, coliti, next, surgeri, schedul, not, familiar, with, hollist, but, probabl, these, they, first, cut, hole, for, the, stoma, through, and, place, directli, the, skin, protect, from, leak, stay, the, skin, and, ulcer, coliti, humira, remicad, there, are, cimzia, and, simponi, that, are, anti, tnf, shot, not, base, upon, weight, xeljanz, also, not, weight, base, not, that, stelara, ...]\n",
       "Name: text, dtype: object"
      ]
     },
     "execution_count": 111,
     "metadata": {},
     "output_type": "execute_result"
    }
   ],
   "source": [
    "from nltk.stem.porter import *\n",
    "stemmer = PorterStemmer()\n",
    "\n",
    "tokenized_review_test = tokenized_review_test.apply(lambda x: [stemmer.stem(i) for i in x]) # stemming\n",
    "tokenized_review_test.head()"
   ]
  },
  {
   "cell_type": "markdown",
   "metadata": {},
   "source": [
    "# Checking Data Distribution of Dependent Variable"
   ]
  },
  {
   "cell_type": "code",
   "execution_count": 112,
   "metadata": {},
   "outputs": [
    {
     "data": {
      "text/plain": [
       "<matplotlib.axes._subplots.AxesSubplot at 0x7f6364bbf2e0>"
      ]
     },
     "execution_count": 112,
     "metadata": {},
     "output_type": "execute_result"
    },
    {
     "data": {
      "image/png": "[encoded data removed]",
      "text/plain": [
       "<Figure size 432x288 with 1 Axes>"
      ]
     },
     "metadata": {
      "needs_background": "light"
     },
     "output_type": "display_data"
    }
   ],
   "source": [
    "sns.countplot(x='sentiment', data=data_train)"
   ]
  },
  {
   "cell_type": "markdown",
   "metadata": {},
   "source": [
    "# Model Building"
   ]
  },
  {
   "cell_type": "code",
   "execution_count": 113,
   "metadata": {},
   "outputs": [],
   "source": [
    "from sklearn.model_selection import train_test_split\n",
    "X_train, X_validation, y_train, y_validation = train_test_split(data_train['text'], data_train['sentiment'], test_size=0.30, stratify=data_train['sentiment'], \n",
    "                                                random_state=1)"
   ]
  },
  {
   "cell_type": "code",
   "execution_count": 114,
   "metadata": {},
   "outputs": [],
   "source": [
    "from sklearn.feature_extraction.text import TfidfVectorizer\n",
    "tfidf_vect = TfidfVectorizer(analyzer='word', stop_words=None, token_pattern='(?u)\\\\b\\\\w\\\\w+\\\\b', ngram_range=(1, 1), max_df=1.0, \n",
    "                             min_df=3, max_features=None, binary=False, norm='l2', use_idf=True, smooth_idf=True, sublinear_tf=False)"
   ]
  },
  {
   "cell_type": "code",
   "execution_count": 115,
   "metadata": {},
   "outputs": [],
   "source": [
    "X_train_tfidf = tfidf_vect.fit_transform(X_train)\n",
    "X_validation_tfidf = tfidf_vect.transform(X_validation)"
   ]
  },
  {
   "cell_type": "code",
   "execution_count": 116,
   "metadata": {},
   "outputs": [
    {
     "name": "stdout",
     "output_type": "stream",
     "text": [
      "f1_score       : 0.5032193559786329\n",
      "accuracy score : 0.6578282828282829\n",
      "recall score : 0.5185050987937005\n"
     ]
    }
   ],
   "source": [
    "from sklearn.metrics import f1_score, accuracy_score,precision_score, recall_score\n",
    "from sklearn.multiclass import OneVsRestClassifier\n",
    "from sklearn.linear_model import SGDClassifier\n",
    "sgd = SGDClassifier(loss='log', max_iter=200, random_state=0, class_weight='balanced')\n",
    "ovr = OneVsRestClassifier(sgd)\n",
    "ovr.fit(X_train_tfidf, y_train)\n",
    "y_pred_class = ovr.predict(X_validation_tfidf)\n",
    "print('f1_score       :', f1_score(y_validation, y_pred_class, average='macro'))\n",
    "print('accuracy score :', accuracy_score(y_validation, y_pred_class))\n",
    "print('recall score :', recall_score(y_validation, y_pred_class,average=\"macro\"))"
   ]
  },
  {
   "cell_type": "markdown",
   "metadata": {},
   "source": [
    "# Prediction on Test Data"
   ]
  },
  {
   "cell_type": "code",
   "execution_count": 117,
   "metadata": {},
   "outputs": [],
   "source": [
    "from sklearn.feature_extraction.text import TfidfVectorizer\n",
    "tfidf_vect = TfidfVectorizer(analyzer='word', stop_words=None, token_pattern='(?u)\\\\b\\\\w\\\\w+\\\\b', ngram_range=(1, 1), max_df=1.0, \n",
    "                             min_df=3, max_features=None, binary=False, norm='l2', use_idf=True, smooth_idf=True, sublinear_tf=False)"
   ]
  },
  {
   "cell_type": "code",
   "execution_count": 118,
   "metadata": {},
   "outputs": [],
   "source": [
    "full_text = list(data_train['text'].values) + list(data_test['text'].values)\n",
    "tfidf_vect.fit(full_text)\n",
    "\n",
    "X_train_tfidf = tfidf_vect.transform(data_train['text'])\n",
    "X_test_tfidf = tfidf_vect.transform(data_test['text'])\n",
    "\n",
    "y_train = data_train['sentiment']"
   ]
  },
  {
   "cell_type": "code",
   "execution_count": 119,
   "metadata": {},
   "outputs": [
    {
     "data": {
      "text/plain": [
       "array([2, 1, 2, ..., 2, 2, 2])"
      ]
     },
     "execution_count": 119,
     "metadata": {},
     "output_type": "execute_result"
    }
   ],
   "source": [
    "from sklearn.multiclass import OneVsRestClassifier\n",
    "from sklearn.linear_model import SGDClassifier\n",
    "sgd = SGDClassifier(loss='log', max_iter=200, random_state=0, class_weight='balanced')\n",
    "ovr = OneVsRestClassifier(sgd)\n",
    "ovr.fit(X_train_tfidf, y_train)\n",
    "y_pred_class = ovr.predict(X_test_tfidf)\n",
    "y_pred_class"
   ]
  },
  {
   "cell_type": "code",
   "execution_count": 120,
   "metadata": {},
   "outputs": [
    {
     "data": {
      "text/html": [
       "<div>\n",
       "<style scoped>\n",
       "    .dataframe tbody tr th:only-of-type {\n",
       "        vertical-align: middle;\n",
       "    }\n",
       "\n",
       "    .dataframe tbody tr th {\n",
       "        vertical-align: top;\n",
       "    }\n",
       "\n",
       "    .dataframe thead th {\n",
       "        text-align: right;\n",
       "    }\n",
       "</style>\n",
       "<table border=\"1\" class=\"dataframe\">\n",
       "  <thead>\n",
       "    <tr style=\"text-align: right;\">\n",
       "      <th></th>\n",
       "      <th>unique_hash</th>\n",
       "      <th>sentiment</th>\n",
       "    </tr>\n",
       "  </thead>\n",
       "  <tbody>\n",
       "    <tr>\n",
       "      <th>0</th>\n",
       "      <td>9e9a8166b84114aca147bf409f6f956635034c08</td>\n",
       "      <td>2</td>\n",
       "    </tr>\n",
       "    <tr>\n",
       "      <th>1</th>\n",
       "      <td>e747e6822c867571afe7b907b51f0f2ca67b0e1a</td>\n",
       "      <td>1</td>\n",
       "    </tr>\n",
       "    <tr>\n",
       "      <th>2</th>\n",
       "      <td>50b6d851bcff4f35afe354937949e9948975adf7</td>\n",
       "      <td>2</td>\n",
       "    </tr>\n",
       "    <tr>\n",
       "      <th>3</th>\n",
       "      <td>7f82ec2176ae6ab0b5d20b5ffc767ac829f384ae</td>\n",
       "      <td>2</td>\n",
       "    </tr>\n",
       "    <tr>\n",
       "      <th>4</th>\n",
       "      <td>8b37d169dee5bdae27060949242fb54feb6a7f7f</td>\n",
       "      <td>2</td>\n",
       "    </tr>\n",
       "  </tbody>\n",
       "</table>\n",
       "</div>"
      ],
      "text/plain": [
       "                                unique_hash  sentiment\n",
       "0  9e9a8166b84114aca147bf409f6f956635034c08          2\n",
       "1  e747e6822c867571afe7b907b51f0f2ca67b0e1a          1\n",
       "2  50b6d851bcff4f35afe354937949e9948975adf7          2\n",
       "3  7f82ec2176ae6ab0b5d20b5ffc767ac829f384ae          2\n",
       "4  8b37d169dee5bdae27060949242fb54feb6a7f7f          2"
      ]
     },
     "execution_count": 120,
     "metadata": {},
     "output_type": "execute_result"
    }
   ],
   "source": [
    "data_test['sentiment'] = y_pred_class\n",
    "data_test.drop(['text','drug'], axis=1,inplace=True)\n",
    "data_test.head(5)"
   ]
  },
  {
   "cell_type": "code",
   "execution_count": null,
   "metadata": {},
   "outputs": [],
   "source": []
  },
  {
   "cell_type": "code",
   "execution_count": null,
   "metadata": {},
   "outputs": [],
   "source": []
  }
 ],
 "metadata": {
  "kernelspec": {
   "display_name": "Python 3",
   "language": "python",
   "name": "python3"
  },
  "language_info": {
   "codemirror_mode": {
    "name": "ipython",
    "version": 3
   },
   "file_extension": ".py",
   "mimetype": "text/x-python",
   "name": "python",
   "nbconvert_exporter": "python",
   "pygments_lexer": "ipython3",
   "version": "3.8.0"
  }
 },
 "nbformat": 4,
 "nbformat_minor": 4
}
